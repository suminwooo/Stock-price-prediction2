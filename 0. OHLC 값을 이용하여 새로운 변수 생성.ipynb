{
 "cells": [
  {
   "cell_type": "code",
   "execution_count": 1,
   "metadata": {},
   "outputs": [],
   "source": [
    "import pandas as pd\n",
    "import numpy as np"
   ]
  },
  {
   "cell_type": "code",
   "execution_count": 2,
   "metadata": {},
   "outputs": [],
   "source": [
    "data=pd.read_csv('data/data.csv')\n",
    "data=data[['date','open','high','low','close']]\n",
    "data=data.set_index('date')\n",
    "data=data[:100]"
   ]
  },
  {
   "cell_type": "markdown",
   "metadata": {},
   "source": [
    "#### open, high, low, close 값 이용한 새로운 변수 생성"
   ]
  },
  {
   "cell_type": "code",
   "execution_count": 5,
   "metadata": {},
   "outputs": [],
   "source": [
    "data_145=data[20:]\n",
    "data_23=data[21:]\n",
    "data_678=data[1:]\n",
    "\n",
    "A=[] #A = 시가, 전날 종가 비율\n",
    "for i in range(len(data_145)-1):    \n",
    "    A.append(round((data_145['open'].tolist()[i+1] - data_145['close'].tolist()[i]) / data_145['close'].tolist()[i],3))\n",
    "A=pd.DataFrame(A)\n",
    "A.columns=['A']\n",
    "\n",
    "B=[] #B = 고가, 종가 비율\n",
    "for i in range(len(data_23)):    \n",
    "    B.append(round((data_23['high'].tolist()[i] - data_23['close'].tolist()[i]) / data_23['close'].tolist()[i],3))\n",
    "B=pd.DataFrame(B)\n",
    "B.columns=['B']\n",
    "\n",
    "C=[] #C = 저가, 종가 비율\n",
    "for i in range(len(data_23)):    \n",
    "    C.append(round((data_23['low'].tolist()[i] - data_23['close'].tolist()[i]) / data_23['close'].tolist()[i],3))\n",
    "C=pd.DataFrame(C)\n",
    "C.columns=['C']\n",
    "\n",
    "D=[] #D = 종가, 전날 종가 비율\n",
    "for i in range(len(data_145)-1):    \n",
    "    D.append(round((data_145['close'].tolist()[i+1] - data_145['close'].tolist()[i]) / data_145['close'].tolist()[i+1],3))\n",
    "D=pd.DataFrame(D)\n",
    "D.columns=['D']\n",
    "\n",
    "data_tech=pd.concat([A,B,C,D],axis=1)\n",
    "data_tech.columns = ['OC','HC','LC','CC']\n",
    "data_tech.index = [i for i in data.index[:79]]\n",
    "data= pd.concat([data, data_tech], axis=1)[:79]"
   ]
  },
  {
   "cell_type": "code",
   "execution_count": 6,
   "metadata": {},
   "outputs": [
    {
     "data": {
      "text/html": [
       "<div>\n",
       "<style scoped>\n",
       "    .dataframe tbody tr th:only-of-type {\n",
       "        vertical-align: middle;\n",
       "    }\n",
       "\n",
       "    .dataframe tbody tr th {\n",
       "        vertical-align: top;\n",
       "    }\n",
       "\n",
       "    .dataframe thead th {\n",
       "        text-align: right;\n",
       "    }\n",
       "</style>\n",
       "<table border=\"1\" class=\"dataframe\">\n",
       "  <thead>\n",
       "    <tr style=\"text-align: right;\">\n",
       "      <th></th>\n",
       "      <th>open</th>\n",
       "      <th>high</th>\n",
       "      <th>low</th>\n",
       "      <th>close</th>\n",
       "      <th>OC</th>\n",
       "      <th>HC</th>\n",
       "      <th>LC</th>\n",
       "      <th>CC</th>\n",
       "    </tr>\n",
       "  </thead>\n",
       "  <tbody>\n",
       "    <tr>\n",
       "      <th>20160622</th>\n",
       "      <td>10150</td>\n",
       "      <td>10150</td>\n",
       "      <td>9780</td>\n",
       "      <td>9830</td>\n",
       "      <td>0.008</td>\n",
       "      <td>0.023</td>\n",
       "      <td>-0.002</td>\n",
       "      <td>-0.010</td>\n",
       "    </tr>\n",
       "    <tr>\n",
       "      <th>20160623</th>\n",
       "      <td>9710</td>\n",
       "      <td>9870</td>\n",
       "      <td>9510</td>\n",
       "      <td>9730</td>\n",
       "      <td>0.008</td>\n",
       "      <td>0.011</td>\n",
       "      <td>-0.014</td>\n",
       "      <td>0.012</td>\n",
       "    </tr>\n",
       "    <tr>\n",
       "      <th>20160624</th>\n",
       "      <td>9840</td>\n",
       "      <td>9910</td>\n",
       "      <td>8700</td>\n",
       "      <td>9080</td>\n",
       "      <td>0.006</td>\n",
       "      <td>0.026</td>\n",
       "      <td>-0.005</td>\n",
       "      <td>0.000</td>\n",
       "    </tr>\n",
       "    <tr>\n",
       "      <th>20160627</th>\n",
       "      <td>8750</td>\n",
       "      <td>9480</td>\n",
       "      <td>8750</td>\n",
       "      <td>9400</td>\n",
       "      <td>0.006</td>\n",
       "      <td>0.000</td>\n",
       "      <td>-0.022</td>\n",
       "      <td>0.021</td>\n",
       "    </tr>\n",
       "    <tr>\n",
       "      <th>20160628</th>\n",
       "      <td>9210</td>\n",
       "      <td>9770</td>\n",
       "      <td>9210</td>\n",
       "      <td>9760</td>\n",
       "      <td>0.000</td>\n",
       "      <td>0.028</td>\n",
       "      <td>-0.002</td>\n",
       "      <td>-0.023</td>\n",
       "    </tr>\n",
       "  </tbody>\n",
       "</table>\n",
       "</div>"
      ],
      "text/plain": [
       "           open   high   low  close     OC     HC     LC     CC\n",
       "20160622  10150  10150  9780   9830  0.008  0.023 -0.002 -0.010\n",
       "20160623   9710   9870  9510   9730  0.008  0.011 -0.014  0.012\n",
       "20160624   9840   9910  8700   9080  0.006  0.026 -0.005  0.000\n",
       "20160627   8750   9480  8750   9400  0.006  0.000 -0.022  0.021\n",
       "20160628   9210   9770  9210   9760  0.000  0.028 -0.002 -0.023"
      ]
     },
     "execution_count": 6,
     "metadata": {},
     "output_type": "execute_result"
    }
   ],
   "source": [
    "data.head()"
   ]
  },
  {
   "cell_type": "code",
   "execution_count": null,
   "metadata": {},
   "outputs": [],
   "source": []
  }
 ],
 "metadata": {
  "kernelspec": {
   "display_name": "Python 3",
   "language": "python",
   "name": "python3"
  },
  "language_info": {
   "codemirror_mode": {
    "name": "ipython",
    "version": 3
   },
   "file_extension": ".py",
   "mimetype": "text/x-python",
   "name": "python",
   "nbconvert_exporter": "python",
   "pygments_lexer": "ipython3",
   "version": "3.6.10"
  }
 },
 "nbformat": 4,
 "nbformat_minor": 4
}
