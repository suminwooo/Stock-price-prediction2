{
 "cells": [
  {
   "cell_type": "markdown",
   "metadata": {},
   "source": [
    "## 군집"
   ]
  },
  {
   "cell_type": "markdown",
   "metadata": {},
   "source": [
    "- 3년치 데이터를 6개월씩 나눠서 6개의 셋을 활용\n",
    "- 이를 이용해 연속적으로 교집합이 생기면 군집으로 활용"
   ]
  },
  {
   "cell_type": "code",
   "execution_count": 1,
   "metadata": {},
   "outputs": [],
   "source": [
    "import pandas as pd\n",
    "import numpy as np\n",
    "import re\n",
    "\n",
    "def clean(readData):\n",
    "    text = re.sub('[-=+,#/\\?:^$.@*\\\"※~&%ㆍ!』\\\\‘|\\(\\)\\[\\]\\<\\>`\\'…》]', '', readData)\n",
    "    return text"
   ]
  },
  {
   "cell_type": "code",
   "execution_count": 2,
   "metadata": {},
   "outputs": [],
   "source": [
    "original_data=pd.read_csv('data/data.csv')"
   ]
  },
  {
   "cell_type": "markdown",
   "metadata": {},
   "source": [
    "#### 1번 셋"
   ]
  },
  {
   "cell_type": "code",
   "execution_count": 3,
   "metadata": {},
   "outputs": [],
   "source": [
    "start_date_01 = '20170101'\n",
    "finish_date_01 = '20170701'\n",
    "\n",
    "data_01=original_data\n",
    "data_01=data_01[['date','open','high','low','close','trading_volume','@@','@@','@@','@@','@@','@@',\n",
    "                 '@@','@@','@@','code']]\n",
    "data_01=data_01.sort_values(by=['date'])\n",
    "data_01=data_01.set_index('date')\n",
    "data_01=data_01.loc[start_date_01:finish_date_01]\n",
    "\n",
    "code_01=[]\n",
    "for i in data_01['code'].unique():\n",
    "    code_01.append(i)\n",
    "    \n",
    "df_close_01 = pd.DataFrame()\n",
    "for i in code_01:\n",
    "    A=data_01[data_01['code']==i]['close']\n",
    "    df_close_01=pd.concat([df_close_01,A],axis=1)\n",
    "df_close_01.columns=[i for i in code_01]\n",
    "COR_01=df_close_01.corr()\n",
    "\n",
    "cor_01=[]\n",
    "for i in range(len(COR_01)):\n",
    "    A_01=COR_01[COR_01.iloc[:,i]>0.95].iloc[:,i].index\n",
    "    cor_01.append(['a{}' .format(i) for i in A_01])\n",
    "stock_cor_01=[]\n",
    "for i,j in zip(code_01,cor_01):\n",
    "    if len(j)>4:\n",
    "        stock_cor_01.append('a{} = {}' .format(i,j))\n",
    "    else : \n",
    "        continue\n",
    "\n",
    "split_01=[]\n",
    "for i in range(len(stock_cor_01)):\n",
    "    info_01 = stock_cor_01[i].split('=')\n",
    "    split_01.append(info_01)\n",
    "    \n",
    "int_code_01,inter_01=[],[]\n",
    "for i in split_01:\n",
    "    int_code_01.append(i[0])\n",
    "    inter_01.append(clean(i[1]))\n",
    "\n",
    "df_inter_01=pd.DataFrame()\n",
    "df_inter_01['code']=int_code_01\n",
    "df_inter_01['inter']=inter_01"
   ]
  },
  {
   "cell_type": "markdown",
   "metadata": {},
   "source": [
    "#### 2번 셋"
   ]
  },
  {
   "cell_type": "code",
   "execution_count": 4,
   "metadata": {},
   "outputs": [],
   "source": [
    "start_date_02 = '20170701'\n",
    "finish_date_02 = '20180101'\n",
    "\n",
    "data_02=original_data\n",
    "data_02=data_02[['date','open','high','low','close','trading_volume','@@','@@','@@','@@','@@','@@',\n",
    "                 '@@','@@','@@','code']]\n",
    "data_02=data_02.sort_values(by=['date'])\n",
    "data_02=data_02.set_index('date')\n",
    "data_02=data_02.loc[start_date_02:finish_date_02]\n",
    "\n",
    "code_02=[]\n",
    "for i in data_02['code'].unique():\n",
    "    code_02.append(i)\n",
    "    \n",
    "df_close_02 = pd.DataFrame()\n",
    "for i in code_02:\n",
    "    A=data_02[data_02['code']==i]['close']\n",
    "    df_close_02=pd.concat([df_close_02,A],axis=1)\n",
    "df_close_02.columns=[i for i in code_02]\n",
    "COR_02=df_close_02.corr()\n",
    "\n",
    "cor_02=[]\n",
    "for i in range(len(COR_02)):\n",
    "    A_02=COR_02[COR_02.iloc[:,i]>0.95].iloc[:,i].index\n",
    "    cor_02.append(['a{}' .format(i) for i in A_02])\n",
    "stock_cor_02=[]\n",
    "for i,j in zip(code_02,cor_02):\n",
    "    if len(j)>4:\n",
    "        stock_cor_02.append('a{} = {}' .format(i,j))\n",
    "    else : \n",
    "        continue\n",
    "\n",
    "split_02=[]\n",
    "for i in range(len(stock_cor_02)):\n",
    "    info_02 = stock_cor_02[i].split('=')\n",
    "    split_02.append(info_02)\n",
    "    \n",
    "int_code_02,inter_02=[],[]\n",
    "for i in split_02:\n",
    "    int_code_02.append(i[0])\n",
    "    inter_02.append(clean(i[1]))\n",
    "\n",
    "df_inter_02=pd.DataFrame()\n",
    "df_inter_02['code']=int_code_02\n",
    "df_inter_02['inter']=inter_02"
   ]
  },
  {
   "cell_type": "markdown",
   "metadata": {},
   "source": [
    "#### 3번 셋"
   ]
  },
  {
   "cell_type": "code",
   "execution_count": 5,
   "metadata": {},
   "outputs": [],
   "source": [
    "start_date_03 = '20180101'\n",
    "finish_date_03 = '20180701'\n",
    "\n",
    "data_03=original_data\n",
    "data_03=data_03[['date','open','high','low','close','trading_volume','@@','@@','@@','@@','@@','@@',\n",
    "                 '@@','@@','@@','code']]\n",
    "data_03=data_03.sort_values(by=['date'])\n",
    "data_03=data_03.set_index('date')\n",
    "data_03=data_03.loc[start_date_03:finish_date_03]\n",
    "\n",
    "code_03=[]\n",
    "for i in data_03['code'].unique():\n",
    "    code_03.append(i)\n",
    "    \n",
    "df_close_03 = pd.DataFrame()\n",
    "for i in code_03:\n",
    "    A=data_03[data_03['code']==i]['close']\n",
    "    df_close_03=pd.concat([df_close_03,A],axis=1)\n",
    "df_close_03.columns=[i for i in code_03]\n",
    "COR_03=df_close_03.corr()\n",
    "\n",
    "cor_03=[]\n",
    "for i in range(len(COR_03)):\n",
    "    A_03=COR_03[COR_03.iloc[:,i]>0.95].iloc[:,i].index\n",
    "    cor_03.append(['a{}' .format(i) for i in A_03])\n",
    "stock_cor_03=[]\n",
    "for i,j in zip(code_03,cor_03):\n",
    "    if len(j)>4:\n",
    "        stock_cor_03.append('a{} = {}' .format(i,j))\n",
    "    else : \n",
    "        continue\n",
    "\n",
    "split_03=[]\n",
    "for i in range(len(stock_cor_03)):\n",
    "    info_03 = stock_cor_03[i].split('=')\n",
    "    split_03.append(info_03)\n",
    "    \n",
    "int_code_03,inter_03=[],[]\n",
    "for i in split_03:\n",
    "    int_code_03.append(i[0])\n",
    "    inter_03.append(clean(i[1]))\n",
    "\n",
    "df_inter_03=pd.DataFrame()\n",
    "df_inter_03['code']=int_code_03\n",
    "df_inter_03['inter']=inter_03"
   ]
  },
  {
   "cell_type": "markdown",
   "metadata": {},
   "source": [
    "#### 4번 셋"
   ]
  },
  {
   "cell_type": "code",
   "execution_count": 6,
   "metadata": {},
   "outputs": [],
   "source": [
    "start_date_04 = '20180701'\n",
    "finish_date_04 = '20190101'\n",
    "\n",
    "data_04=original_data\n",
    "data_04=data_04[['date','open','high','low','close','trading_volume','@@','@@','@@','@@','@@','@@',\n",
    "                 '@@','@@','@@','code']]\n",
    "data_04=data_04.sort_values(by=['date'])\n",
    "data_04=data_04.set_index('date')\n",
    "data_04=data_04.loc[start_date_04:finish_date_04]\n",
    "\n",
    "code_04=[]\n",
    "for i in data_04['code'].unique():\n",
    "    code_04.append(i)\n",
    "    \n",
    "df_close_04 = pd.DataFrame()\n",
    "for i in code_04:\n",
    "    A=data_04[data_04['code']==i]['close']\n",
    "    df_close_04=pd.concat([df_close_04,A],axis=1)\n",
    "df_close_04.columns=[i for i in code_04]\n",
    "COR_04=df_close_04.corr()\n",
    "\n",
    "cor_04=[]\n",
    "for i in range(len(COR_04)):\n",
    "    A_04=COR_04[COR_04.iloc[:,i]>0.95].iloc[:,i].index\n",
    "    cor_04.append(['a{}' .format(i) for i in A_04])\n",
    "stock_cor_04=[]\n",
    "for i,j in zip(code_04,cor_04):\n",
    "    if len(j)>4:\n",
    "        stock_cor_04.append('a{} = {}' .format(i,j))\n",
    "    else : \n",
    "        continue\n",
    "\n",
    "split_04=[]\n",
    "for i in range(len(stock_cor_04)):\n",
    "    info_04 = stock_cor_04[i].split('=')\n",
    "    split_04.append(info_04)\n",
    "    \n",
    "int_code_04,inter_04=[],[]\n",
    "for i in split_04:\n",
    "    int_code_04.append(i[0])\n",
    "    inter_04.append(clean(i[1]))\n",
    "\n",
    "df_inter_04=pd.DataFrame()\n",
    "df_inter_04['code']=int_code_04\n",
    "df_inter_04['inter']=inter_04"
   ]
  },
  {
   "cell_type": "markdown",
   "metadata": {},
   "source": [
    "#### 5번 셋"
   ]
  },
  {
   "cell_type": "code",
   "execution_count": 7,
   "metadata": {},
   "outputs": [],
   "source": [
    "start_date_05 = '20190101'\n",
    "finish_date_05 = '20190701'\n",
    "\n",
    "data_05=original_data\n",
    "data_05=data_05[['date','open','high','low','close','trading_volume','@@','@@','@@','@@','@@','@@',\n",
    "                 '@@','@@','@@','code']]\n",
    "data_05=data_05.sort_values(by=['date'])\n",
    "data_05=data_05.set_index('date')\n",
    "data_05=data_05.loc[start_date_05:finish_date_05]\n",
    "\n",
    "code_05=[]\n",
    "for i in data_05['code'].unique():\n",
    "    code_05.append(i)\n",
    "    \n",
    "df_close_05 = pd.DataFrame()\n",
    "for i in code_05:\n",
    "    A=data_05[data_05['code']==i]['close']\n",
    "    df_close_05=pd.concat([df_close_05,A],axis=1)\n",
    "df_close_05.columns=[i for i in code_05]\n",
    "COR_05=df_close_05.corr()\n",
    "\n",
    "cor_05=[]\n",
    "for i in range(len(COR_05)):\n",
    "    A_05=COR_05[COR_05.iloc[:,i]>0.95].iloc[:,i].index\n",
    "    cor_05.append(['a{}' .format(i) for i in A_05])\n",
    "stock_cor_05=[]\n",
    "for i,j in zip(code_05,cor_05):\n",
    "    if len(j)>4:\n",
    "        stock_cor_05.append('a{} = {}' .format(i,j))\n",
    "    else : \n",
    "        continue\n",
    "\n",
    "split_05=[]\n",
    "for i in range(len(stock_cor_05)):\n",
    "    info_05 = stock_cor_05[i].split('=')\n",
    "    split_05.append(info_05)\n",
    "    \n",
    "int_code_05,inter_05=[],[]\n",
    "for i in split_05:\n",
    "    int_code_05.append(i[0])\n",
    "    inter_05.append(clean(i[1]))\n",
    "\n",
    "df_inter_05=pd.DataFrame()\n",
    "df_inter_05['code']=int_code_05\n",
    "df_inter_05['inter']=inter_05"
   ]
  },
  {
   "cell_type": "markdown",
   "metadata": {},
   "source": [
    "#### 6번 셋"
   ]
  },
  {
   "cell_type": "code",
   "execution_count": 8,
   "metadata": {
    "scrolled": false
   },
   "outputs": [],
   "source": [
    "start_date_06 = '20190701'\n",
    "finish_date_06 = '20200101'\n",
    "\n",
    "data_06=original_data\n",
    "data_06=data_06[['date','open','high','low','close','trading_volume','@@','@@','@@','@@','@@','@@',\n",
    "                 '@@','@@','@@','code']]\n",
    "data_06=data_06.sort_values(by=['date'])\n",
    "data_06=data_06.set_index('date')\n",
    "data_06=data_06.loc[start_date_06:finish_date_06]\n",
    "\n",
    "code_06=[]\n",
    "for i in data_06['code'].unique():\n",
    "    code_06.append(i)\n",
    "    \n",
    "df_close_06 = pd.DataFrame()\n",
    "for i in code_06:\n",
    "    A=data_06[data_06['code']==i]['close']\n",
    "    df_close_06=pd.concat([df_close_06,A],axis=1)\n",
    "df_close_06.columns=[i for i in code_06]\n",
    "COR_06=df_close_06.corr()\n",
    "\n",
    "cor_06=[]\n",
    "for i in range(len(COR_06)):\n",
    "    A_06=COR_06[COR_06.iloc[:,i]>0.95].iloc[:,i].index\n",
    "    cor_06.append(['a{}' .format(i) for i in A_06])\n",
    "stock_cor_06=[]\n",
    "for i,j in zip(code_06,cor_06):\n",
    "    if len(j)>4:\n",
    "        stock_cor_06.append('a{} = {}' .format(i,j))\n",
    "    else : \n",
    "        continue\n",
    "\n",
    "split_06=[]\n",
    "for i in range(len(stock_cor_06)):\n",
    "    info_06 = stock_cor_06[i].split('=')\n",
    "    split_06.append(info_06)\n",
    "    \n",
    "int_code_06,inter_06=[],[]\n",
    "for i in split_06:\n",
    "    int_code_06.append(i[0])\n",
    "    inter_06.append(clean(i[1]))\n",
    "\n",
    "df_inter_06=pd.DataFrame()\n",
    "df_inter_06['code']=int_code_06\n",
    "df_inter_06['inter']=inter_06"
   ]
  },
  {
   "cell_type": "markdown",
   "metadata": {},
   "source": [
    "#### 데이터 교집합 해주기"
   ]
  },
  {
   "cell_type": "code",
   "execution_count": 9,
   "metadata": {},
   "outputs": [],
   "source": [
    "df_inter_01=df_inter_01.set_index('code')\n",
    "df_inter_02=df_inter_02.set_index('code')\n",
    "df_inter_03=df_inter_03.set_index('code')\n",
    "df_inter_04=df_inter_04.set_index('code')\n",
    "df_inter_05=df_inter_05.set_index('code')\n",
    "df_inter_06=df_inter_06.set_index('code')"
   ]
  },
  {
   "cell_type": "code",
   "execution_count": 10,
   "metadata": {},
   "outputs": [],
   "source": [
    "df_inter_01.columns=['set1']\n",
    "df_inter_02.columns=['set2']\n",
    "df_inter_03.columns=['set3']\n",
    "df_inter_04.columns=['set4']\n",
    "df_inter_05.columns=['set5']\n",
    "df_inter_06.columns=['set6']"
   ]
  },
  {
   "cell_type": "code",
   "execution_count": 11,
   "metadata": {
    "scrolled": false
   },
   "outputs": [],
   "source": [
    "final_interaction=pd.concat([df_inter_01,df_inter_02,df_inter_03,df_inter_04,df_inter_05,df_inter_06], axis=1, join='inner')"
   ]
  },
  {
   "cell_type": "code",
   "execution_count": 12,
   "metadata": {},
   "outputs": [
    {
     "data": {
      "text/plain": [
       "(35, 6)"
      ]
     },
     "execution_count": 12,
     "metadata": {},
     "output_type": "execute_result"
    }
   ],
   "source": [
    "final_interaction.shape"
   ]
  },
  {
   "cell_type": "code",
   "execution_count": 13,
   "metadata": {},
   "outputs": [
    {
     "data": {
      "text/html": [
       "<div>\n",
       "<style scoped>\n",
       "    .dataframe tbody tr th:only-of-type {\n",
       "        vertical-align: middle;\n",
       "    }\n",
       "\n",
       "    .dataframe tbody tr th {\n",
       "        vertical-align: top;\n",
       "    }\n",
       "\n",
       "    .dataframe thead th {\n",
       "        text-align: right;\n",
       "    }\n",
       "</style>\n",
       "<table border=\"1\" class=\"dataframe\">\n",
       "  <thead>\n",
       "    <tr style=\"text-align: right;\">\n",
       "      <th></th>\n",
       "      <th>set1</th>\n",
       "      <th>set2</th>\n",
       "      <th>set3</th>\n",
       "      <th>set4</th>\n",
       "      <th>set5</th>\n",
       "      <th>set6</th>\n",
       "    </tr>\n",
       "    <tr>\n",
       "      <th>code</th>\n",
       "      <th></th>\n",
       "      <th></th>\n",
       "      <th></th>\n",
       "      <th></th>\n",
       "      <th></th>\n",
       "      <th></th>\n",
       "    </tr>\n",
       "  </thead>\n",
       "  <tbody>\n",
       "    <tr>\n",
       "      <th>a190160</th>\n",
       "      <td>a190160 a66570 a143460 a157490 a138530 a22649...</td>\n",
       "      <td>a190620 a189400 a157450 a130730 a153130 a2149...</td>\n",
       "      <td>a239660 a196230 a226340 a31430 a214980 a68930...</td>\n",
       "      <td>a190620 a157450 a214980 a152380 a167860 a1222...</td>\n",
       "      <td>a52860 a157450 a102710 a67990 a88980 a190620 ...</td>\n",
       "      <td>a214980 a35420 a130730 a190620 a190160 a19623...</td>\n",
       "    </tr>\n",
       "    <tr>\n",
       "      <th>a143460</th>\n",
       "      <td>a190160 a78935 a66570 a228820 a143460 a157490...</td>\n",
       "      <td>a69500 a152280 a145850 a122630 a123320 a14802...</td>\n",
       "      <td>a145850 a140950 a105190 a170350 a166400 a1434...</td>\n",
       "      <td>a60280 a145850 a211900 a237350 a100910 a22882...</td>\n",
       "      <td>a105780 a226490 a227830 a100910 a122090 a6966...</td>\n",
       "      <td>a122630 a145850 a104520 a168300 a148020 a1220...</td>\n",
       "    </tr>\n",
       "    <tr>\n",
       "      <th>a226490</th>\n",
       "      <td>a190160 a78935 a66570 a228820 a143460 a157490...</td>\n",
       "      <td>a69500 a152280 a140950 a145850 a122630 a12332...</td>\n",
       "      <td>a145850 a159800 a140950 a122630 a100910 a1051...</td>\n",
       "      <td>a11080 a134060 a60280 a214390 a83660 a184230 ...</td>\n",
       "      <td>a161510 a226490 a227830 a100910 a122090 a6966...</td>\n",
       "      <td>a122630 a145850 a104520 a168300 a148020 a1220...</td>\n",
       "    </tr>\n",
       "    <tr>\n",
       "      <th>a105190</th>\n",
       "      <td>a190160 a78935 a66570 a228820 a143460 a157490...</td>\n",
       "      <td>a69500 a152280 a140950 a122630 a123320 a16830...</td>\n",
       "      <td>a145850 a159800 a140950 a122630 a100910 a1051...</td>\n",
       "      <td>a11080 a134060 a60280 a214390 a83660 a184230 ...</td>\n",
       "      <td>a105780 a161510 a226490 a227830 a100910 a1220...</td>\n",
       "      <td>a122630 a145850 a168300 a148020 a122090 a1837...</td>\n",
       "    </tr>\n",
       "    <tr>\n",
       "      <th>a108590</th>\n",
       "      <td>a190160 a78935 a66570 a228820 a143460 a157490...</td>\n",
       "      <td>a69500 a152280 a140950 a122630 a123320 a16830...</td>\n",
       "      <td>a145850 a159800 a140950 a122630 a100910 a1051...</td>\n",
       "      <td>a11080 a134060 a60280 a214390 a18500 a83660 a...</td>\n",
       "      <td>a105780 a161510 a226490 a227830 a100910 a1220...</td>\n",
       "      <td>a122630 a145850 a168300 a148020 a122090 a1837...</td>\n",
       "    </tr>\n",
       "  </tbody>\n",
       "</table>\n",
       "</div>"
      ],
      "text/plain": [
       "                                                       set1  \\\n",
       "code                                                          \n",
       "a190160    a190160 a66570 a143460 a157490 a138530 a22649...   \n",
       "a143460    a190160 a78935 a66570 a228820 a143460 a157490...   \n",
       "a226490    a190160 a78935 a66570 a228820 a143460 a157490...   \n",
       "a105190    a190160 a78935 a66570 a228820 a143460 a157490...   \n",
       "a108590    a190160 a78935 a66570 a228820 a143460 a157490...   \n",
       "\n",
       "                                                       set2  \\\n",
       "code                                                          \n",
       "a190160    a190620 a189400 a157450 a130730 a153130 a2149...   \n",
       "a143460    a69500 a152280 a145850 a122630 a123320 a14802...   \n",
       "a226490    a69500 a152280 a140950 a145850 a122630 a12332...   \n",
       "a105190    a69500 a152280 a140950 a122630 a123320 a16830...   \n",
       "a108590    a69500 a152280 a140950 a122630 a123320 a16830...   \n",
       "\n",
       "                                                       set3  \\\n",
       "code                                                          \n",
       "a190160    a239660 a196230 a226340 a31430 a214980 a68930...   \n",
       "a143460    a145850 a140950 a105190 a170350 a166400 a1434...   \n",
       "a226490    a145850 a159800 a140950 a122630 a100910 a1051...   \n",
       "a105190    a145850 a159800 a140950 a122630 a100910 a1051...   \n",
       "a108590    a145850 a159800 a140950 a122630 a100910 a1051...   \n",
       "\n",
       "                                                       set4  \\\n",
       "code                                                          \n",
       "a190160    a190620 a157450 a214980 a152380 a167860 a1222...   \n",
       "a143460    a60280 a145850 a211900 a237350 a100910 a22882...   \n",
       "a226490    a11080 a134060 a60280 a214390 a83660 a184230 ...   \n",
       "a105190    a11080 a134060 a60280 a214390 a83660 a184230 ...   \n",
       "a108590    a11080 a134060 a60280 a214390 a18500 a83660 a...   \n",
       "\n",
       "                                                       set5  \\\n",
       "code                                                          \n",
       "a190160    a52860 a157450 a102710 a67990 a88980 a190620 ...   \n",
       "a143460    a105780 a226490 a227830 a100910 a122090 a6966...   \n",
       "a226490    a161510 a226490 a227830 a100910 a122090 a6966...   \n",
       "a105190    a105780 a161510 a226490 a227830 a100910 a1220...   \n",
       "a108590    a105780 a161510 a226490 a227830 a100910 a1220...   \n",
       "\n",
       "                                                       set6  \n",
       "code                                                         \n",
       "a190160    a214980 a35420 a130730 a190620 a190160 a19623...  \n",
       "a143460    a122630 a145850 a104520 a168300 a148020 a1220...  \n",
       "a226490    a122630 a145850 a104520 a168300 a148020 a1220...  \n",
       "a105190    a122630 a145850 a168300 a148020 a122090 a1837...  \n",
       "a108590    a122630 a145850 a168300 a148020 a122090 a1837...  "
      ]
     },
     "execution_count": 13,
     "metadata": {},
     "output_type": "execute_result"
    }
   ],
   "source": [
    "final_interaction.head()"
   ]
  },
  {
   "cell_type": "markdown",
   "metadata": {},
   "source": [
    "#### 교집합으로 나온 각각의 종목을 분석"
   ]
  },
  {
   "cell_type": "markdown",
   "metadata": {},
   "source": [
    "- 총 35개의 개별 종목이 총 6개의 셋에서 공통적으로 나옴\n",
    "- 각각의 종목을 확인하여 6개의 셋에서 공통으로 연속해서 상관관계가 높은 종목을 뽑음"
   ]
  },
  {
   "cell_type": "code",
   "execution_count": 14,
   "metadata": {},
   "outputs": [],
   "source": [
    "def intersect(a, b):\n",
    "    return list(set(a) & set(b))"
   ]
  },
  {
   "cell_type": "markdown",
   "metadata": {},
   "source": [
    "##### 35개의 종목 돌려보기"
   ]
  },
  {
   "cell_type": "code",
   "execution_count": 15,
   "metadata": {},
   "outputs": [],
   "source": [
    "code=[]\n",
    "for i in final_interaction.index:\n",
    "    code.append(i)\n",
    "\n",
    "intersect_code=[]\n",
    "for i in range(len(final_interaction)):\n",
    "    a190160_1 = final_interaction.iloc[i,:][0].strip().replace(' ',',').split(\",\")\n",
    "    a190160_2 = final_interaction.iloc[i,:][1].strip().replace(' ',',').split(\",\")\n",
    "    a190160_3 = final_interaction.iloc[i,:][2].strip().replace(' ',',').split(\",\")\n",
    "    a190160_4 = final_interaction.iloc[i,:][3].strip().replace(' ',',').split(\",\")\n",
    "    a190160_5 = final_interaction.iloc[i,:][4].strip().replace(' ',',').split(\",\")\n",
    "    a190160_6 = final_interaction.iloc[i,:][5].strip().replace(' ',',').split(\",\")\n",
    "    a190160=intersect(intersect(intersect(intersect(intersect(a190160_1,a190160_2),a190160_3),a190160_4),a190160_5),a190160_6)\n",
    "    intersect_code.append(a190160)"
   ]
  },
  {
   "cell_type": "code",
   "execution_count": 16,
   "metadata": {},
   "outputs": [],
   "source": [
    "final = pd.DataFrame([code, intersect_code]).T\n",
    "final.columns=['code','inter']"
   ]
  },
  {
   "cell_type": "code",
   "execution_count": 17,
   "metadata": {},
   "outputs": [],
   "source": [
    "#final.to_csv('data/final_intersection.csv')"
   ]
  },
  {
   "cell_type": "code",
   "execution_count": null,
   "metadata": {},
   "outputs": [],
   "source": []
  }
 ],
 "metadata": {
  "kernelspec": {
   "display_name": "Python 3",
   "language": "python",
   "name": "python3"
  },
  "language_info": {
   "codemirror_mode": {
    "name": "ipython",
    "version": 3
   },
   "file_extension": ".py",
   "mimetype": "text/x-python",
   "name": "python",
   "nbconvert_exporter": "python",
   "pygments_lexer": "ipython3",
   "version": "3.6.10"
  }
 },
 "nbformat": 4,
 "nbformat_minor": 4
}
