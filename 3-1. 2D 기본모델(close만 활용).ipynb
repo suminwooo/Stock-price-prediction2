{
 "cells": [
  {
   "cell_type": "code",
   "execution_count": 1,
   "metadata": {},
   "outputs": [
    {
     "name": "stderr",
     "output_type": "stream",
     "text": [
      "Using TensorFlow backend.\n"
     ]
    }
   ],
   "source": [
    "import pandas as pd\n",
    "import numpy as np\n",
    "import matplotlib.pyplot as plt\n",
    "from collections import Counter\n",
    "import imageio\n",
    "\n",
    "import tensorflow as tf\n",
    "from tensorflow.keras import layers, models\n",
    "from keras.layers import Dense, Dropout, Activation"
   ]
  },
  {
   "cell_type": "code",
   "execution_count": 2,
   "metadata": {},
   "outputs": [],
   "source": [
    "data = pd.read_csv('data/data.csv')\n",
    "data = data[data.columns[1:]].set_index('date')\n",
    "original_data = data\n",
    "\n",
    "code = pd.read_csv('data/kospi200code.csv')\n",
    "code = code['code']"
   ]
  },
  {
   "cell_type": "code",
   "execution_count": null,
   "metadata": {
    "scrolled": true
   },
   "outputs": [],
   "source": [
    "data_code = [] # 3년 이상 존재하는 코드\n",
    "for i in range(len(code)):\n",
    "    data = original_data\n",
    "    data = original_data[original_data['code']==code[i]].reset_index().sort_values(by=['date'])['close']\n",
    "    if data.shape[0]>900:\n",
    "        data_code.append(i)\n",
    "    else : \n",
    "        continue"
   ]
  },
  {
   "cell_type": "markdown",
   "metadata": {},
   "source": [
    "#### 전체 만들기"
   ]
  },
  {
   "cell_type": "code",
   "execution_count": null,
   "metadata": {},
   "outputs": [],
   "source": [
    "data = original_data\n",
    "data = original_data[original_data['code']==code[5]].reset_index().sort_values(by=['date'])['close']"
   ]
  },
  {
   "cell_type": "code",
   "execution_count": null,
   "metadata": {
    "scrolled": true
   },
   "outputs": [],
   "source": [
    "data.plot()"
   ]
  },
  {
   "cell_type": "code",
   "execution_count": null,
   "metadata": {
    "scrolled": true
   },
   "outputs": [],
   "source": [
    "data = original_data\n",
    "data = original_data[original_data['code']==code[5]].reset_index().sort_values(by=['date'])['close']\n",
    "\n",
    "df_train = data.iloc[:int(len(data)*0.8),]\n",
    "df_test = data.iloc[int(len(data)*0.8):,]\n",
    "mean = df_train.mean(axis=0)\n",
    "std = df_train.std(axis=0)\n",
    "df_train -= mean\n",
    "df_train /= std\n",
    "df_test -= mean\n",
    "df_test /= std\n",
    "\n",
    "# for j in range(data.shape[0]-5):\n",
    "#     plt.style.use('dark_background')\n",
    "#     plt.figure(figsize=(4,4),dpi=10)\n",
    "#     data[j:j+5].plot()\n",
    "#     plt.axis('off')\n",
    "#     fig = plt.gcf()\n",
    "#     fig.savefig('data/cnn_test/{}.png'.format(j), dpi=fig.dpi)"
   ]
  },
  {
   "cell_type": "markdown",
   "metadata": {},
   "source": [
    "---------------------"
   ]
  },
  {
   "cell_type": "markdown",
   "metadata": {},
   "source": [
    "--------------------"
   ]
  },
  {
   "cell_type": "code",
   "execution_count": null,
   "metadata": {
    "scrolled": true
   },
   "outputs": [],
   "source": [
    "img_vec=[]\n",
    "for j in range(len(data)-5):\n",
    "    img = imageio.imread('data/cnn/1-{}.png'.format(j), pilmode='RGB')\n",
    "    img = img/255\n",
    "    img_vec.append(img)"
   ]
  },
  {
   "cell_type": "code",
   "execution_count": null,
   "metadata": {},
   "outputs": [],
   "source": [
    "len(img_vec)"
   ]
  },
  {
   "cell_type": "code",
   "execution_count": null,
   "metadata": {},
   "outputs": [],
   "source": [
    "y = []\n",
    "for j in range(len(data)-5):\n",
    "    if data.iloc[j+4] > data.iloc[j+5]:\n",
    "        y.append(1)\n",
    "    else : \n",
    "        y.append(0)"
   ]
  },
  {
   "cell_type": "code",
   "execution_count": null,
   "metadata": {},
   "outputs": [],
   "source": [
    "len(y)"
   ]
  },
  {
   "cell_type": "code",
   "execution_count": null,
   "metadata": {},
   "outputs": [],
   "source": [
    "X = img_vec"
   ]
  },
  {
   "cell_type": "code",
   "execution_count": null,
   "metadata": {},
   "outputs": [],
   "source": [
    "train_X = np.array(X[:int(len(data)*0.8)])\n",
    "test_X = np.array(X[int(len(data)*0.8):])\n",
    "\n",
    "train_y = np.array(y[:int(len(data)*0.8)])\n",
    "test_y = np.array(y[int(len(data)*0.8):])"
   ]
  },
  {
   "cell_type": "code",
   "execution_count": null,
   "metadata": {},
   "outputs": [],
   "source": [
    "model = models.Sequential()\n",
    "\n",
    "model.add(layers.Conv2D(64, (1, 1), activation='relu', input_shape=(40, 40, 3)))\n",
    "model.add(layers.MaxPooling2D((2, 2))) \n",
    "model.add(layers.Dropout(0.5))\n",
    "\n",
    "model.add(layers.Conv2D(32, (1, 1), activation='relu'))\n",
    "model.add(layers.MaxPooling2D((2, 2))) \n",
    "model.add(layers.Dropout(0.5))\n",
    "\n",
    "model.add(layers.Flatten())\n",
    "\n",
    "model.add(layers.Dense(64, activation='relu'))\n",
    "model.add(layers.Dropout(0.5))\n",
    "\n",
    "model.add(layers.Dense(32, activation='relu'))\n",
    "model.add(layers.Dropout(0.5))\n",
    "\n",
    "model.add(layers.Dense(2, activation='softmax'))\n",
    "\n",
    "model.compile(optimizer='adam',loss='sparse_categorical_crossentropy',metrics=['accuracy'])\n",
    "\n",
    "model.summary()"
   ]
  },
  {
   "cell_type": "code",
   "execution_count": null,
   "metadata": {
    "scrolled": true
   },
   "outputs": [],
   "source": [
    "model.fit(train_X, train_y, batch_size=4, epochs=50)"
   ]
  },
  {
   "cell_type": "code",
   "execution_count": null,
   "metadata": {},
   "outputs": [],
   "source": [
    "pred = model.predict(test_X)"
   ]
  },
  {
   "cell_type": "code",
   "execution_count": null,
   "metadata": {},
   "outputs": [],
   "source": [
    "predict = []\n",
    "for i in range(pred.shape[0]):\n",
    "    predicted=pred[i].argmax()\n",
    "    predict.append(predicted)"
   ]
  },
  {
   "cell_type": "code",
   "execution_count": null,
   "metadata": {},
   "outputs": [],
   "source": [
    "print('accuracy = ',round((predict == test_y).sum() / len(predict),3)*100,'%')"
   ]
  },
  {
   "cell_type": "code",
   "execution_count": null,
   "metadata": {},
   "outputs": [],
   "source": []
  }
 ],
 "metadata": {
  "kernelspec": {
   "display_name": "Python 3",
   "language": "python",
   "name": "python3"
  },
  "language_info": {
   "codemirror_mode": {
    "name": "ipython",
    "version": 3
   },
   "file_extension": ".py",
   "mimetype": "text/x-python",
   "name": "python",
   "nbconvert_exporter": "python",
   "pygments_lexer": "ipython3",
   "version": "3.6.10"
  }
 },
 "nbformat": 4,
 "nbformat_minor": 4
}
